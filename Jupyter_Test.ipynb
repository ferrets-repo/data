{
 "cells": [
  {
   "cell_type": "code",
   "execution_count": 4,
   "metadata": {},
   "outputs": [],
   "source": [
    "# import os\n",
    "# import requests\n",
    "# import time\n",
    "# import datetime\n",
    "import pandas as pd\n",
    "from datetime import date\n",
    "from scipy.optimize import fmin\n",
    "from scipy.optimize import minimize\n",
    "import numpy as np\n",
    "# import fredapi as fapi\n",
    "from fredapi import Fred\n",
    "from nelson_siegel_svensson.calibrate import calibrate_ns_ols\n",
    "from nelson_siegel_svensson import NelsonSiegelCurve\n",
    "from scipy.optimize import least_squares\n",
    "\n",
    "# Your FRED API key\n",
    "fred_key = 'e1ed8f4fb579f8537d1d1d263f4708b8'\n",
    "\n",
    "# Initialize the FRED client\n",
    "fred = Fred(api_key=fred_key)\n",
    "\n",
    "# List of FRED series IDs\n",
    "ids = ['DGS1MO', 'DGS3MO', 'DGS6MO', 'DGS1', 'DGS2', 'DGS3', 'DGS5', 'DGS7', 'DGS10', 'DGS20', 'DGS30']\n",
    "\n",
    "# Initialize an empty DataFrame to hold all the series data\n",
    "combined_df = pd.DataFrame()\n",
    "\n",
    "# Initialize an empty DataFrame to hold the final NS results\n",
    "df_final = pd.DataFrame({\n",
    "    'Date': [''], \n",
    "    'Level': [''],\n",
    "    'Slope': [''],\n",
    "    'Curveature': [''],\n",
    "    'Decay': ['']\n",
    "})\n",
    "\n",
    "# Mapping series_id to number of months for column names\n",
    "maturity_mapping = {\n",
    "    'DGS1MO': '1', 'DGS3MO': '3', 'DGS6MO': '6',\n",
    "    'DGS1': '12', 'DGS2': '24', 'DGS3': '36',\n",
    "    'DGS5': '60', 'DGS7': '84', 'DGS10': '120',\n",
    "    'DGS20': '240', 'DGS30': '360'\n",
    "}\n"
   ]
  },
  {
   "cell_type": "code",
   "execution_count": 5,
   "metadata": {},
   "outputs": [],
   "source": [
    "for series_id in ids:\n",
    "    # Get the series data from FRED\n",
    "    series_data = fred.get_series(series_id)\n",
    "   \n",
    "    # Convert the series to a DataFrame\n",
    "    df = series_data.to_frame(name=series_id)\n",
    "   \n",
    "    # Rename the column to match the maturity mapping\n",
    "    df.rename(columns={series_id: maturity_mapping[series_id]}, inplace=True)\n",
    "   \n",
    "    # Join the series data with the combined DataFrame\n",
    "    combined_df = combined_df.join(df, how='outer')"
   ]
  },
  {
   "cell_type": "code",
   "execution_count": 6,
   "metadata": {},
   "outputs": [],
   "source": [
    "# Drop rows with NaN values\n",
    "clean_df = combined_df.dropna()\n",
    "\n",
    "# Convert the DataFrame to long format\n",
    "long_df = clean_df.reset_index().melt(id_vars='index', var_name='Maturity', value_name='Yield')\n",
    "\n",
    "# Rename the 'index' column to 'Date'\n",
    "long_df.rename(columns={'index': 'Date'}, inplace=True)\n",
    "\n",
    "# Pivot the DataFrame to get dates as columns, maturities as rows, and yield values as values\n",
    "pivot_df = long_df.pivot(index='Maturity', columns='Date', values='Yield')\n",
    "\n",
    "# Convert maturity to integers for sorting purposes\n",
    "pivot_df.index = pivot_df.index.astype(int)\n",
    "\n",
    "# Define the desired order of maturities\n",
    "maturity_order = [1, 3, 6, 12, 24, 36, 60, 84, 120, 240, 360]\n",
    "\n",
    "# Reindex the pivot table to ensure the maturities are in the correct order\n",
    "pivot_df = pivot_df.reindex(maturity_order)\n",
    "\n",
    "# Sort the columns by date for better readability (optional)\n",
    "pivot_df.sort_index(axis=1, inplace=True)\n",
    "\n",
    "# Create a new MultiIndex for columns with \"Yield\" as the second level\n",
    "pivot_df.columns = pd.MultiIndex.from_product([pivot_df.columns, ['Yield']])\n"
   ]
  },
  {
   "cell_type": "code",
   "execution_count": 7,
   "metadata": {},
   "outputs": [],
   "source": [
    "# Function to fit Nelson-Siegel model using a robust least squares method\n",
    "def robust_calibrate_ns_ols(maturities, yields):\n",
    "    def ns_function(params, maturities, yields):\n",
    "        beta0, beta1, beta2, tau = params\n",
    "        ns_curve = NelsonSiegelCurve(beta0, beta1, beta2, tau)\n",
    "        return ns_curve(maturities) - yields\n",
    "\n",
    "    initial_guess = [0.03, -0.02, 0.02, 1.0]  # Example initial guess\n",
    "    result = least_squares(ns_function, initial_guess, args=(maturities, yields), method='trf', loss='soft_l1')\n",
    "    if result.success:\n",
    "        return NelsonSiegelCurve(*result.x), result\n",
    "    else:\n",
    "        raise ValueError(\"Optimization failed\")\n"
   ]
  },
  {
   "cell_type": "code",
   "execution_count": null,
   "metadata": {},
   "outputs": [],
   "source": [
    "# Fit the Nelson-Siegel model to the data\n",
    "for date in pivot_df.columns.get_level_values(0).unique():\n",
    "    yields = pivot_df[date].values.flatten()\n",
    "    maturities = pivot_df.index.values / 12  # convert months to years\n",
    "   \n",
    "    # Fit the Nelson-Siegel model using robust fitting\n",
    "    try:\n",
    "        curve, result = robust_calibrate_ns_ols(maturities, yields)\n",
    "        # Store results as a row in df_final dataframe\n",
    "        df_final.loc[len(df_final)] = date, curve.beta0, curve.beta1, curve.beta2, curve.tau\n",
    "    except ValueError as e:\n",
    "        print(f\"Fitting failed for date {date}: {e}\")\n"
   ]
  },
  {
   "cell_type": "code",
   "execution_count": 9,
   "metadata": {},
   "outputs": [],
   "source": [
    "df_final.to_csv('NS_model.csv', index=False)"
   ]
  }
 ],
 "metadata": {
  "kernelspec": {
   "display_name": "Python 3",
   "language": "python",
   "name": "python3"
  },
  "language_info": {
   "codemirror_mode": {
    "name": "ipython",
    "version": 3
   },
   "file_extension": ".py",
   "mimetype": "text/x-python",
   "name": "python",
   "nbconvert_exporter": "python",
   "pygments_lexer": "ipython3",
   "version": "3.12.2"
  }
 },
 "nbformat": 4,
 "nbformat_minor": 2
}
